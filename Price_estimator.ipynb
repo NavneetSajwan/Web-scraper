{
 "metadata": {
  "language_info": {
   "codemirror_mode": {
    "name": "ipython",
    "version": 3
   },
   "file_extension": ".py",
   "mimetype": "text/x-python",
   "name": "python",
   "nbconvert_exporter": "python",
   "pygments_lexer": "ipython3",
   "version": "3.7.9-final"
  },
  "orig_nbformat": 2,
  "kernelspec": {
   "name": "python37964bitscratchconda4a3060bd36fb41209272224932a7c6b4",
   "display_name": "Python 3.7.9 64-bit ('scratch': conda)",
   "language": "python"
  }
 },
 "nbformat": 4,
 "nbformat_minor": 2,
 "cells": [
  {
   "cell_type": "code",
   "execution_count": 1,
   "metadata": {},
   "outputs": [],
   "source": [
    "import os\n",
    "import json"
   ]
  },
  {
   "cell_type": "code",
   "execution_count": 3,
   "metadata": {},
   "outputs": [
    {
     "output_type": "stream",
     "name": "stdout",
     "text": [
      "Choose the index of make from the list\n0 .  Ashok_Leyland.json\n1 .  Aston_Martin.json\n2 .  Audi.json\n3 .  BMW.json\n4 .  Bajaj.json\n5 .  Bentley.json\n6 .  Bugatti.json\n7 .  Caterham.json\n8 .  Chevrolet.json\n9 .  Chrysler.json\n10 .  Citroen.json\n11 .  DC.json\n12 .  Daewoo.json\n13 .  Datsun.json\n14 .  Devel.json\n15 .  Eicher_Polaris.json\n16 .  Ferrari.json\n17 .  Fiat.json\n18 .  Force.json\n19 .  Ford.json\n20 .  GWM.json\n21 .  HM.json\n22 .  Haima.json\n23 .  Honda.json\n24 .  Hummer.json\n25 .  Hyundai.json\n26 .  ICML.json\n27 .  Isuzu.json\n28 .  Jaguar.json\n29 .  Jeep.json\n30 .  Kia.json\n31 .  Lamborghini.json\n32 .  Land_Rover.json\n33 .  Lexus.json\n34 .  MG.json\n35 .  Mahindra.json\n36 .  Mahindra_Renault.json\n37 .  Mahindra_Ssangyong.json\n38 .  Maruti_Suzuki.json\n39 .  Maserati.json\n40 .  Maybach.json\n41 .  Mercedes-Benz.json\n42 .  Mini.json\n43 .  Mitsubishi.json\n44 .  Nissan.json\n45 .  Opel.json\n46 .  Pagani.json\n47 .  Porsche.json\n48 .  Premier.json\n49 .  Renault.json\n50 .  Rolls-Royce.json\n51 .  Skoda.json\n52 .  Volkswagen.json\n53 .  Volvo.json\n"
     ]
    }
   ],
   "source": [
    "prices_path = 'car part prices'\n",
    "make_list = os.listdir(prices_path)\n",
    "print(\"Choose the index of make from the list\")\n",
    "for i,make in enumerate(sorted(os.listdir(prices_path))):\n",
    "    print(i,\". \",make)"
   ]
  },
  {
   "cell_type": "code",
   "execution_count": 23,
   "metadata": {},
   "outputs": [],
   "source": [
    "make_list = sorted(os.listdir(prices_path))"
   ]
  },
  {
   "cell_type": "code",
   "execution_count": 24,
   "metadata": {},
   "outputs": [],
   "source": [
    "idx = int(input(\"Choose the index of make from the list\"))\n",
    "filename = make_list[idx]\n",
    "# print(make_list[idx])"
   ]
  },
  {
   "cell_type": "code",
   "execution_count": 25,
   "metadata": {},
   "outputs": [
    {
     "output_type": "execute_result",
     "data": {
      "text/plain": [
       "'Maruti_Suzuki.json'"
      ]
     },
     "metadata": {},
     "execution_count": 25
    }
   ],
   "source": [
    "filename"
   ]
  },
  {
   "cell_type": "code",
   "execution_count": 26,
   "metadata": {},
   "outputs": [],
   "source": [
    "#pick up and the read the make into memory\n",
    "filepath = os.path.join(prices_path, filename)\n",
    "with open(filepath, \"r\") as file:\n",
    "    make = json.load(file)"
   ]
  },
  {
   "cell_type": "code",
   "execution_count": 19,
   "metadata": {},
   "outputs": [
    {
     "output_type": "execute_result",
     "data": {
      "text/plain": [
       "36"
      ]
     },
     "metadata": {},
     "execution_count": 19
    }
   ],
   "source": [
    "len(make['model_list'])"
   ]
  },
  {
   "cell_type": "code",
   "execution_count": 27,
   "metadata": {},
   "outputs": [
    {
     "output_type": "stream",
     "name": "stdout",
     "text": [
      "0 .  1000\n1 .  800\n2 .  A-Star\n3 .  Alto\n4 .  Alto 800\n5 .  Alto K10\n6 .  Baleno\n7 .  Celerio\n8 .  Celerio X\n9 .  Ciaz\n10 .  Dzire\n11 .  Eeco\n12 .  Ertiga\n13 .  Esteem\n14 .  Grand Vitara\n15 .  Gypsy\n16 .  Ignis\n17 .  Jimny\n18 .  Kizashi\n19 .  Omni\n20 .  Ritz\n21 .  S-Cross\n22 .  S-Presso\n23 .  Solio\n24 .  Stingray\n25 .  Swift\n26 .  Swift Dzire\n27 .  SX4\n28 .  Versa\n29 .  Vitara Brezza\n30 .  Wagon R\n31 .  Wagon R Duo\n32 .  XL5\n33 .  XL6\n34 .  Zen\n35 .  Zen Estilo\n"
     ]
    }
   ],
   "source": [
    "for i, item in enumerate(make['model_list']):\n",
    "    print(i,\". \", item[\"model_org_name\"])"
   ]
  },
  {
   "cell_type": "code",
   "execution_count": 28,
   "metadata": {},
   "outputs": [],
   "source": [
    "idx = int(input(\"Choose a model from the list\"))\n",
    "model = make['model_list'][idx]"
   ]
  },
  {
   "cell_type": "code",
   "execution_count": 29,
   "metadata": {},
   "outputs": [
    {
     "output_type": "stream",
     "name": "stdout",
     "text": [
      "Available trim for the this model\n0 .  AC\n1 .  AC BS II\n2 .  AC BS III\n3 .  AC UNIQ\n4 .  DUO AC LPG\n5 .  DUO STD LPG\n6 .  DX\n7 .  EX 5 SPEED\n8 .  STD\n9 .  STD BS II\n10 .  STD BS III\n"
     ]
    }
   ],
   "source": [
    "print(\"Available trim for the this model\")\n",
    "for i, item in enumerate(model['trim_list']):\n",
    "    print(i,\". \", item[\"trim_org_name\"])"
   ]
  },
  {
   "cell_type": "code",
   "execution_count": 30,
   "metadata": {},
   "outputs": [],
   "source": [
    "idx = int(input(\"Choose a model from the list\"))\n",
    "trim = model['trim_list'][idx]\n",
    "# trim"
   ]
  },
  {
   "cell_type": "code",
   "execution_count": 31,
   "metadata": {},
   "outputs": [
    {
     "output_type": "stream",
     "name": "stdout",
     "text": [
      "Part: Wiper Blades\nMinimum price: 420\nMaximum price: 520\nPart: Bonnet\nMinimum price: 3260\nMaximum price: 3990\n"
     ]
    }
   ],
   "source": [
    "damaged_parts = ['Wiper Blades','Bonnet']\n",
    "try:\n",
    "    for item in trim['data']['prices_list']:\n",
    "        # print(item)\n",
    "        for dpart in damaged_parts:\n",
    "            if item['part_name'] == dpart:\n",
    "                print(\"Part:\", dpart)\n",
    "                print(\"Minimum price:\", item['price_min'])\n",
    "                print(\"Maximum price:\", item['price_max'])\n",
    "except KeyError:\n",
    "    print(\"No prices available for this trim type\")"
   ]
  },
  {
   "cell_type": "code",
   "execution_count": null,
   "metadata": {},
   "outputs": [],
   "source": []
  }
 ]
}