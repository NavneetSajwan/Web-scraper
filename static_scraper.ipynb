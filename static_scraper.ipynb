{
 "metadata": {
  "language_info": {
   "codemirror_mode": {
    "name": "ipython",
    "version": 3
   },
   "file_extension": ".py",
   "mimetype": "text/x-python",
   "name": "python",
   "nbconvert_exporter": "python",
   "pygments_lexer": "ipython3",
   "version": "3.7.9-final"
  },
  "orig_nbformat": 2,
  "kernelspec": {
   "name": "python37964bitscratchconda4a3060bd36fb41209272224932a7c6b4",
   "display_name": "Python 3.7.9 64-bit ('scratch': conda)"
  }
 },
 "nbformat": 4,
 "nbformat_minor": 2,
 "cells": [
  {
   "cell_type": "code",
   "execution_count": null,
   "metadata": {},
   "outputs": [],
   "source": [
    "name_list = ['Wiper Blades', 'Front Bumper', 'Front Fender', 'Bonnet', 'Front Door', 'Bootlid']"
   ]
  },
  {
   "cell_type": "code",
   "execution_count": 57,
   "metadata": {},
   "outputs": [],
   "source": [
    "url  = 'https://droom.in/repair-estimate'\n",
    "# url = 'https://droom.in/eco/repair-estimate'"
   ]
  },
  {
   "cell_type": "code",
   "execution_count": 58,
   "metadata": {},
   "outputs": [],
   "source": [
    "import requests\n",
    "import re\n",
    "from bs4 import BeautifulSoup\n",
    "headers = {'User-Agent': 'Mozilla/5.0 (Windows NT 6.1; WOW64) AppleWebKit/537.36 (KHTML, like Gecko) Chrome/56.0.2924.76 Safari/537.36'} # This is chrome, you can set whatever browser you like\n",
    "result = requests.get(url, headers = headers)\n",
    "src = result.content\n",
    "soup = BeautifulSoup(src, 'lxml')"
   ]
  },
  {
   "cell_type": "code",
   "execution_count": 59,
   "metadata": {},
   "outputs": [],
   "source": [
    "make = soup.find(text = re.compile(\"Select Car to Check Estimated Repair Cost\")).parent.parent.find_all('select', attrs = {'name':'make'})\n",
    "option_list = make[0].find_all('option' )"
   ]
  },
  {
   "cell_type": "code",
   "execution_count": 61,
   "metadata": {},
   "outputs": [],
   "source": [
    "option_list = make[0].find_all('option' )\n",
    "# option_list"
   ]
  },
  {
   "cell_type": "code",
   "execution_count": 64,
   "metadata": {},
   "outputs": [
    {
     "output_type": "execute_result",
     "data": {
      "text/plain": [
       "('Audi', '801')"
      ]
     },
     "metadata": {},
     "execution_count": 64
    }
   ],
   "source": [
    "make  = make_list[2]['value']\n",
    "make_id = make_list[2]['data-make-id']\n",
    "make, make_id"
   ]
  },
  {
   "cell_type": "code",
   "execution_count": 65,
   "metadata": {},
   "outputs": [],
   "source": [
    "getModelList = 'https://droom.in/getRepairServiceModelList?make='+make_list[2]['value']+'&make_id='+make_list[2]['data-make-id']+'&bucket=cars'"
   ]
  },
  {
   "cell_type": "code",
   "execution_count": 127,
   "metadata": {},
   "outputs": [
    {
     "output_type": "execute_result",
     "data": {
      "text/plain": [
       "'apple+cidar'"
      ]
     },
     "metadata": {},
     "execution_count": 127
    }
   ],
   "source": [
    "sample = \"apple cidar\"\n",
    "sample_list = sample.split()\n",
    "'+'.join(sample_list)"
   ]
  },
  {
   "cell_type": "code",
   "execution_count": 190,
   "metadata": {},
   "outputs": [],
   "source": [
    "# make_list"
   ]
  },
  {
   "cell_type": "code",
   "execution_count": 3,
   "metadata": {},
   "outputs": [],
   "source": [
    "import pdb\n",
    "import json\n",
    "from tqdm.notebook import tqdm\n",
    "import requests\n",
    "import re\n",
    "from bs4 import BeautifulSoup"
   ]
  },
  {
   "cell_type": "code",
   "execution_count": 4,
   "metadata": {},
   "outputs": [],
   "source": [
    "url  = 'https://droom.in/repair-estimate'\n",
    "headers = {'User-Agent': 'Mozilla/5.0 (Windows NT 6.1; WOW64) AppleWebKit/537.36 (KHTML, like Gecko) Chrome/56.0.2924.76 Safari/537.36'} # This is chrome, you can set whatever browser you like\n",
    "result = requests.get(url, headers = headers)\n",
    "src = result.content\n",
    "soup = BeautifulSoup(src, 'lxml')\n",
    "make = soup.find(text = re.compile(\"Select Car to Check Estimated Repair Cost\")).parent.parent.find_all('select', attrs = {'name':'make'})\n",
    "option_list = make[0].find_all('option' )\n",
    "make_list = []\n",
    "for option in option_list:\n",
    "    make_list.append(option.attrs)\n",
    "make_list = make_list[1:]\n",
    "# make_list\n",
    "names_list = ['Wiper Blades', 'Front Bumper', 'Front Fender', 'Bonnet', 'Front Door', 'Bootlid', 'Front Windscreen Glass', 'Side Mirrors', 'Front Strut', 'Front Suspension Lower Arm','Suspension Overhaul']"
   ]
  },
  {
   "cell_type": "code",
   "execution_count": 10,
   "metadata": {},
   "outputs": [
    {
     "output_type": "execute_result",
     "data": {
      "text/plain": [
       "{'value': 'Toyota', 'data-make-id': '41'}"
      ]
     },
     "metadata": {},
     "execution_count": 10
    }
   ],
   "source": [
    "make_list[53]"
   ]
  },
  {
   "cell_type": "code",
   "execution_count": 42,
   "metadata": {},
   "outputs": [
    {
     "output_type": "execute_result",
     "data": {
      "text/plain": [
       "{'value': 'Toyota', 'data-make-id': '41'}"
      ]
     },
     "metadata": {},
     "execution_count": 42
    }
   ],
   "source": [
    "make_list[53]"
   ]
  },
  {
   "cell_type": "code",
   "execution_count": 43,
   "metadata": {},
   "outputs": [
    {
     "output_type": "display_data",
     "data": {
      "text/plain": "HBox(children=(FloatProgress(value=0.0, max=1.0), HTML(value='')))",
      "application/vnd.jupyter.widget-view+json": {
       "version_major": 2,
       "version_minor": 0,
       "model_id": "8363cffde2bc4f2c96b6093b480e0bd9"
      }
     },
     "metadata": {}
    },
    {
     "output_type": "display_data",
     "data": {
      "text/plain": "HBox(children=(FloatProgress(value=0.0, max=21.0), HTML(value='')))",
      "application/vnd.jupyter.widget-view+json": {
       "version_major": 2,
       "version_minor": 0,
       "model_id": "a4886fe100bf4bfa8f4931ea033e1b72"
      }
     },
     "metadata": {}
    },
    {
     "output_type": "display_data",
     "data": {
      "text/plain": "HBox(children=(FloatProgress(value=0.0, max=1.0), HTML(value='')))",
      "application/vnd.jupyter.widget-view+json": {
       "version_major": 2,
       "version_minor": 0,
       "model_id": "f61c282d97024cd78b28fa47edd17439"
      }
     },
     "metadata": {}
    },
    {
     "output_type": "stream",
     "name": "stdout",
     "text": [
      "Toyota 41 Alphard 1001 V6 15251\n",
      "status code is 504\n",
      "\n"
     ]
    },
    {
     "output_type": "display_data",
     "data": {
      "text/plain": "HBox(children=(FloatProgress(value=0.0, max=14.0), HTML(value='')))",
      "application/vnd.jupyter.widget-view+json": {
       "version_major": 2,
       "version_minor": 0,
       "model_id": "2ff162c44325440591b3bdbcf743049d"
      }
     },
     "metadata": {}
    },
    {
     "output_type": "stream",
     "name": "stdout",
     "text": [
      "Toyota 41 Camry 981 2.4 208981\n",
      "status code is 504\n",
      "Toyota 41 Camry 981 2.4+AT 491031\n",
      "status code is 504\n",
      "Toyota 41 Camry 981 2.5+AT 208931\n",
      "status code is 504\n",
      "Toyota 41 Camry 981 ACV30R 492191\n",
      "status code is 504\n",
      "Toyota 41 Camry 981 HYBRID 208941\n",
      "status code is 504\n",
      "Toyota 41 Camry 981 HYBRID+BS6 584478\n",
      "status code is 504\n",
      "Toyota 41 Camry 981 V1 208961\n",
      "status code is 504\n",
      "Toyota 41 Camry 981 V3 208971\n",
      "status code is 504\n",
      "Toyota 41 Camry 981 V4+MT 208991\n",
      "status code is 504\n",
      "Toyota 41 Camry 981 V6+AT 209001\n",
      "status code is 504\n",
      "Toyota 41 Camry 981 W1 209071\n",
      "status code is 504\n",
      "Toyota 41 Camry 981 W2+AT 209031\n",
      "status code is 504\n",
      "Toyota 41 Camry 981 W3 209081\n",
      "status code is 504\n",
      "Toyota 41 Camry 981 W4+AT 209041\n",
      "status code is 504\n",
      "\n"
     ]
    },
    {
     "output_type": "display_data",
     "data": {
      "text/plain": "HBox(children=(FloatProgress(value=0.0, max=10.0), HTML(value='')))",
      "application/vnd.jupyter.widget-view+json": {
       "version_major": 2,
       "version_minor": 0,
       "model_id": "29e690fb68634fe69a4e87522612e492"
      }
     },
     "metadata": {}
    },
    {
     "output_type": "stream",
     "name": "stdout",
     "text": [
      "Toyota 41 Corolla 871 1.8E 209271\n",
      "status code is 504\n",
      "Toyota 41 Corolla 871 E 209231\n",
      "status code is 504\n",
      "Toyota 41 Corolla 871 G 209111\n",
      "status code is 504\n",
      "Toyota 41 Corolla 871 H1+1.8+J 209181\n",
      "status code is 504\n",
      "Toyota 41 Corolla 871 H2+1.8+E 209171\n",
      "status code is 504\n",
      "Toyota 41 Corolla 871 H3+1.8+G 209191\n",
      "status code is 504\n",
      "Toyota 41 Corolla 871 H4+1.8+G 209201\n",
      "status code is 504\n",
      "Toyota 41 Corolla 871 H5+1.8+E 209211\n",
      "status code is 504\n",
      "Toyota 41 Corolla 871 H7 209261\n",
      "status code is 504\n",
      "Toyota 41 Corolla 871 HE+1.8J 209251\n",
      "status code is 504\n",
      "\n"
     ]
    },
    {
     "output_type": "display_data",
     "data": {
      "text/plain": "HBox(children=(FloatProgress(value=0.0, max=24.0), HTML(value='')))",
      "application/vnd.jupyter.widget-view+json": {
       "version_major": 2,
       "version_minor": 0,
       "model_id": "375bc10573fe4c77a7ea2a709a9fae44"
      }
     },
     "metadata": {}
    },
    {
     "output_type": "stream",
     "name": "stdout",
     "text": [
      "Toyota 41 Corolla+Altis 911 1.8+G 489541\n",
      "status code is 504\n",
      "Toyota 41 Corolla+Altis 911 1.8+G+AT 489551\n",
      "status code is 504\n",
      "Toyota 41 Corolla+Altis 911 1.8+G+CNG 489561\n",
      "status code is 504\n",
      "Toyota 41 Corolla+Altis 911 1.8+GL 489531\n",
      "status code is 504\n",
      "Toyota 41 Corolla+Altis 911 1.8+GL+CNG 489571\n",
      "status code is 504\n",
      "Toyota 41 Corolla+Altis 911 1.8+J 489481\n",
      "status code is 504\n",
      "Toyota 41 Corolla+Altis 911 1.8+J+CNG 489581\n",
      "status code is 504\n",
      "Toyota 41 Corolla+Altis 911 1.8+J+S 489651\n",
      "status code is 504\n",
      "Toyota 41 Corolla+Altis 911 1.8+SPORT 489491\n",
      "status code is 504\n",
      "Toyota 41 Corolla+Altis 911 1.8+SPORTS 489511\n",
      "status code is 504\n",
      "Toyota 41 Corolla+Altis 911 1.8+V 489721\n",
      "status code is 504\n",
      "Toyota 41 Corolla+Altis 911 1.8+VL 489591\n",
      "status code is 504\n",
      "Toyota 41 Corolla+Altis 911 1.8+VL+AT 489641\n",
      "status code is 504\n",
      "Toyota 41 Corolla+Altis 911 1.8V 489621\n",
      "status code is 504\n",
      "Toyota 41 Corolla+Altis 911 AERO+LIMITED+EDITION 489661\n",
      "status code is 504\n",
      "Toyota 41 Corolla+Altis 911 AERO+LIMITED+EDITION+DIESEL 509021\n",
      "status code is 504\n",
      "Toyota 41 Corolla+Altis 911 D-4D+G 489801\n",
      "status code is 504\n",
      "Toyota 41 Corolla+Altis 911 G+AT+PETROL 489781\n",
      "status code is 504\n",
      "Toyota 41 Corolla+Altis 911 G+DIESEL 489601\n",
      "status code is 504\n",
      "Toyota 41 Corolla+Altis 911 GL+DIESEL 489611\n",
      "status code is 504\n",
      "Toyota 41 Corolla+Altis 911 H2+1.8E 529001\n",
      "status code is 504\n",
      "Toyota 41 Corolla+Altis 911 J+DIESEL 489521\n",
      "status code is 504\n",
      "\n"
     ]
    },
    {
     "output_type": "display_data",
     "data": {
      "text/plain": "HBox(children=(FloatProgress(value=0.0, max=1.0), HTML(value='')))",
      "application/vnd.jupyter.widget-view+json": {
       "version_major": 2,
       "version_minor": 0,
       "model_id": "587f86b2695342fbb7b89d6fa59621ca"
      }
     },
     "metadata": {}
    },
    {
     "output_type": "stream",
     "name": "stdout",
     "text": [
      "Toyota 41 Corolla+Levin 1031 FZ 451071\n",
      "status code is 504\n",
      "\n"
     ]
    },
    {
     "output_type": "display_data",
     "data": {
      "text/plain": "HBox(children=(FloatProgress(value=0.0, max=2.0), HTML(value='')))",
      "application/vnd.jupyter.widget-view+json": {
       "version_major": 2,
       "version_minor": 0,
       "model_id": "e80ba125639e4ecb8007af20e2ddbb1e"
      }
     },
     "metadata": {}
    },
    {
     "output_type": "stream",
     "name": "stdout",
     "text": [
      "Toyota 41 Corona 1041 DIESEL 455191\n",
      "status code is 504\n",
      "Toyota 41 Corona 1041 PETROL 455181\n",
      "status code is 504\n",
      "\n"
     ]
    },
    {
     "output_type": "display_data",
     "data": {
      "text/plain": "HBox(children=(FloatProgress(value=0.0, max=1.0), HTML(value='')))",
      "application/vnd.jupyter.widget-view+json": {
       "version_major": 2,
       "version_minor": 0,
       "model_id": "9c0643cbb40b4c3abde5c71cd7efbc03"
      }
     },
     "metadata": {}
    },
    {
     "output_type": "stream",
     "name": "stdout",
     "text": [
      "Toyota 41 Crown 1051 ROYAL+SALOON 15311\n",
      "status code is 504\n",
      "\n"
     ]
    },
    {
     "output_type": "display_data",
     "data": {
      "text/plain": "HBox(children=(FloatProgress(value=0.0, max=7.0), HTML(value='')))",
      "application/vnd.jupyter.widget-view+json": {
       "version_major": 2,
       "version_minor": 0,
       "model_id": "85b8fdc417394b9ea0135d95306b5a25"
      }
     },
     "metadata": {}
    },
    {
     "output_type": "stream",
     "name": "stdout",
     "text": [
      "Toyota 41 Etios 901 G 482461\n",
      "status code is 504\n",
      "Toyota 41 Etios 901 GD 482471\n",
      "status code is 504\n",
      "Toyota 41 Etios 901 GD+SP 482571\n",
      "status code is 504\n",
      "Toyota 41 Etios 901 GX 482641\n",
      "status code is 504\n",
      "Toyota 41 Etios 901 J+PS 482511\n",
      "status code is 504\n",
      "Toyota 41 Etios 901 V 482481\n",
      "status code is 504\n",
      "Toyota 41 Etios 901 VD 482531\n",
      "status code is 504\n",
      "\n"
     ]
    },
    {
     "output_type": "display_data",
     "data": {
      "text/plain": "HBox(children=(FloatProgress(value=0.0, max=21.0), HTML(value='')))",
      "application/vnd.jupyter.widget-view+json": {
       "version_major": 2,
       "version_minor": 0,
       "model_id": "76008436ab634ee9bf69568bacc8e3cf"
      }
     },
     "metadata": {}
    },
    {
     "output_type": "stream",
     "name": "stdout",
     "text": [
      "Toyota 41 Etios+Liva 921 G 14161\n",
      "status code is 504\n",
      "Toyota 41 Etios+Liva 921 G+SP 14141\n",
      "status code is 504\n",
      "Toyota 41 Etios+Liva 921 GD 14291\n",
      "status code is 504\n",
      "Toyota 41 Etios+Liva 921 GD+SP 14301\n",
      "status code is 504\n",
      "Toyota 41 Etios+Liva 921 GX 14351\n",
      "status code is 504\n",
      "Toyota 41 Etios+Liva 921 GXD 14341\n",
      "status code is 504\n",
      "Toyota 41 Etios+Liva 921 J 14271\n",
      "status code is 504\n",
      "Toyota 41 Etios+Liva 921 TRD+SPORTIVE+PETROL 14281\n",
      "status code is 504\n",
      "Toyota 41 Etios+Liva 921 TRD+SPORTIVO+DIESEL 14151\n",
      "status code is 504\n",
      "Toyota 41 Etios+Liva 921 V 14191\n",
      "status code is 504\n",
      "Toyota 41 Etios+Liva 921 V+DUAL+TONE 515371\n",
      "status code is 504\n",
      "Toyota 41 Etios+Liva 921 V+SP 14201\n",
      "status code is 504\n",
      "Toyota 41 Etios+Liva 921 VD 14221\n",
      "status code is 504\n",
      "Toyota 41 Etios+Liva 921 VD+DUAL+TONE 515391\n",
      "status code is 504\n",
      "Toyota 41 Etios+Liva 921 VD+SP 14211\n",
      "status code is 504\n",
      "Toyota 41 Etios+Liva 921 VX 14311\n",
      "status code is 504\n",
      "Toyota 41 Etios+Liva 921 VX+DUAL+TONE 515381\n",
      "status code is 504\n",
      "Toyota 41 Etios+Liva 921 VX+DUAL+TONE+LE 535071\n",
      "status code is 504\n",
      "Toyota 41 Etios+Liva 921 VXD 14331\n",
      "status code is 504\n",
      "Toyota 41 Etios+Liva 921 VXD+DUAL+TONE 515401\n",
      "status code is 504\n",
      "Toyota 41 Etios+Liva 921 VXD+DUAL+TONE+LE 535081\n",
      "status code is 504\n",
      "\n"
     ]
    },
    {
     "output_type": "display_data",
     "data": {
      "text/plain": "HBox(children=(FloatProgress(value=0.0, max=21.0), HTML(value='')))",
      "application/vnd.jupyter.widget-view+json": {
       "version_major": 2,
       "version_minor": 0,
       "model_id": "9fa16756f9ca480ba9713f23da1918fe"
      }
     },
     "metadata": {}
    },
    {
     "output_type": "stream",
     "name": "stdout",
     "text": [
      "Toyota 41 Fortuner 971 2.5+4X2+AT+TRD+SPORTIVO 168731\n",
      "status code is 504\n",
      "Toyota 41 Fortuner 971 2.5+4X2+MT+TRD+SPORTIVO 168741\n",
      "status code is 504\n",
      "Toyota 41 Fortuner 971 2.7+4X2+AT 168681\n",
      "status code is 504\n",
      "Toyota 41 Fortuner 971 2.7+4x2+AT+BS6 584468\n",
      "status code is 504\n",
      "Toyota 41 Fortuner 971 2.7+4X2+MT 168661\n",
      "status code is 504\n",
      "Toyota 41 Fortuner 971 2.7+4x2+MT+BS6 584467\n",
      "status code is 504\n",
      "Toyota 41 Fortuner 971 2.8+4X2+AT 168691\n",
      "status code is 504\n",
      "Toyota 41 Fortuner 971 2.8+4x2+AT+BS6 584470\n",
      "status code is 504\n",
      "Toyota 41 Fortuner 971 2.8+4X2+MT 168671\n",
      "status code is 504\n",
      "Toyota 41 Fortuner 971 2.8+4x2+MT+BS6 584469\n",
      "status code is 504\n",
      "Toyota 41 Fortuner 971 2.8+4X4+AT 168711\n",
      "status code is 504\n",
      "Toyota 41 Fortuner 971 2.8+4x4+AT+BS6 584472\n",
      "status code is 504\n",
      "Toyota 41 Fortuner 971 2.8+4X4+MT 168701\n",
      "status code is 504\n",
      "Toyota 41 Fortuner 971 2.8+4x4+MT+BS6 584471\n",
      "status code is 504\n",
      "Toyota 41 Fortuner 971 3.0+4X2+AT 168631\n",
      "status code is 504\n",
      "Toyota 41 Fortuner 971 3.0+4X4+AT 168601\n",
      "status code is 504\n"
     ]
    },
    {
     "output_type": "error",
     "ename": "ConnectionError",
     "evalue": "('Connection aborted.', ConnectionResetError(104, 'Connection reset by peer'))",
     "traceback": [
      "\u001b[0;31m---------------------------------------------------------------------------\u001b[0m",
      "\u001b[0;31mConnectionResetError\u001b[0m                      Traceback (most recent call last)",
      "\u001b[0;32m~/miniconda3/envs/scratch/lib/python3.7/site-packages/urllib3/connectionpool.py\u001b[0m in \u001b[0;36murlopen\u001b[0;34m(self, method, url, body, headers, retries, redirect, assert_same_host, timeout, pool_timeout, release_conn, chunked, body_pos, **response_kw)\u001b[0m\n\u001b[1;32m    671\u001b[0m                 \u001b[0mheaders\u001b[0m\u001b[0;34m=\u001b[0m\u001b[0mheaders\u001b[0m\u001b[0;34m,\u001b[0m\u001b[0;34m\u001b[0m\u001b[0;34m\u001b[0m\u001b[0m\n\u001b[0;32m--> 672\u001b[0;31m                 \u001b[0mchunked\u001b[0m\u001b[0;34m=\u001b[0m\u001b[0mchunked\u001b[0m\u001b[0;34m,\u001b[0m\u001b[0;34m\u001b[0m\u001b[0;34m\u001b[0m\u001b[0m\n\u001b[0m\u001b[1;32m    673\u001b[0m             )\n",
      "\u001b[0;32m~/miniconda3/envs/scratch/lib/python3.7/site-packages/urllib3/connectionpool.py\u001b[0m in \u001b[0;36m_make_request\u001b[0;34m(self, conn, method, url, timeout, chunked, **httplib_request_kw)\u001b[0m\n\u001b[1;32m    375\u001b[0m         \u001b[0;32mtry\u001b[0m\u001b[0;34m:\u001b[0m\u001b[0;34m\u001b[0m\u001b[0;34m\u001b[0m\u001b[0m\n\u001b[0;32m--> 376\u001b[0;31m             \u001b[0mself\u001b[0m\u001b[0;34m.\u001b[0m\u001b[0m_validate_conn\u001b[0m\u001b[0;34m(\u001b[0m\u001b[0mconn\u001b[0m\u001b[0;34m)\u001b[0m\u001b[0;34m\u001b[0m\u001b[0;34m\u001b[0m\u001b[0m\n\u001b[0m\u001b[1;32m    377\u001b[0m         \u001b[0;32mexcept\u001b[0m \u001b[0;34m(\u001b[0m\u001b[0mSocketTimeout\u001b[0m\u001b[0;34m,\u001b[0m \u001b[0mBaseSSLError\u001b[0m\u001b[0;34m)\u001b[0m \u001b[0;32mas\u001b[0m \u001b[0me\u001b[0m\u001b[0;34m:\u001b[0m\u001b[0;34m\u001b[0m\u001b[0;34m\u001b[0m\u001b[0m\n",
      "\u001b[0;32m~/miniconda3/envs/scratch/lib/python3.7/site-packages/urllib3/connectionpool.py\u001b[0m in \u001b[0;36m_validate_conn\u001b[0;34m(self, conn)\u001b[0m\n\u001b[1;32m    993\u001b[0m         \u001b[0;32mif\u001b[0m \u001b[0;32mnot\u001b[0m \u001b[0mgetattr\u001b[0m\u001b[0;34m(\u001b[0m\u001b[0mconn\u001b[0m\u001b[0;34m,\u001b[0m \u001b[0;34m\"sock\"\u001b[0m\u001b[0;34m,\u001b[0m \u001b[0;32mNone\u001b[0m\u001b[0;34m)\u001b[0m\u001b[0;34m:\u001b[0m  \u001b[0;31m# AppEngine might not have  `.sock`\u001b[0m\u001b[0;34m\u001b[0m\u001b[0;34m\u001b[0m\u001b[0m\n\u001b[0;32m--> 994\u001b[0;31m             \u001b[0mconn\u001b[0m\u001b[0;34m.\u001b[0m\u001b[0mconnect\u001b[0m\u001b[0;34m(\u001b[0m\u001b[0;34m)\u001b[0m\u001b[0;34m\u001b[0m\u001b[0;34m\u001b[0m\u001b[0m\n\u001b[0m\u001b[1;32m    995\u001b[0m \u001b[0;34m\u001b[0m\u001b[0m\n",
      "\u001b[0;32m~/miniconda3/envs/scratch/lib/python3.7/site-packages/urllib3/connection.py\u001b[0m in \u001b[0;36mconnect\u001b[0;34m(self)\u001b[0m\n\u001b[1;32m    359\u001b[0m             \u001b[0mserver_hostname\u001b[0m\u001b[0;34m=\u001b[0m\u001b[0mserver_hostname\u001b[0m\u001b[0;34m,\u001b[0m\u001b[0;34m\u001b[0m\u001b[0;34m\u001b[0m\u001b[0m\n\u001b[0;32m--> 360\u001b[0;31m             \u001b[0mssl_context\u001b[0m\u001b[0;34m=\u001b[0m\u001b[0mcontext\u001b[0m\u001b[0;34m,\u001b[0m\u001b[0;34m\u001b[0m\u001b[0;34m\u001b[0m\u001b[0m\n\u001b[0m\u001b[1;32m    361\u001b[0m         )\n",
      "\u001b[0;32m~/miniconda3/envs/scratch/lib/python3.7/site-packages/urllib3/util/ssl_.py\u001b[0m in \u001b[0;36mssl_wrap_socket\u001b[0;34m(sock, keyfile, certfile, cert_reqs, ca_certs, server_hostname, ssl_version, ciphers, ssl_context, ca_cert_dir, key_password)\u001b[0m\n\u001b[1;32m    369\u001b[0m         \u001b[0;32mif\u001b[0m \u001b[0mHAS_SNI\u001b[0m \u001b[0;32mand\u001b[0m \u001b[0mserver_hostname\u001b[0m \u001b[0;32mis\u001b[0m \u001b[0;32mnot\u001b[0m \u001b[0;32mNone\u001b[0m\u001b[0;34m:\u001b[0m\u001b[0;34m\u001b[0m\u001b[0;34m\u001b[0m\u001b[0m\n\u001b[0;32m--> 370\u001b[0;31m             \u001b[0;32mreturn\u001b[0m \u001b[0mcontext\u001b[0m\u001b[0;34m.\u001b[0m\u001b[0mwrap_socket\u001b[0m\u001b[0;34m(\u001b[0m\u001b[0msock\u001b[0m\u001b[0;34m,\u001b[0m \u001b[0mserver_hostname\u001b[0m\u001b[0;34m=\u001b[0m\u001b[0mserver_hostname\u001b[0m\u001b[0;34m)\u001b[0m\u001b[0;34m\u001b[0m\u001b[0;34m\u001b[0m\u001b[0m\n\u001b[0m\u001b[1;32m    371\u001b[0m \u001b[0;34m\u001b[0m\u001b[0m\n",
      "\u001b[0;32m~/miniconda3/envs/scratch/lib/python3.7/ssl.py\u001b[0m in \u001b[0;36mwrap_socket\u001b[0;34m(self, sock, server_side, do_handshake_on_connect, suppress_ragged_eofs, server_hostname, session)\u001b[0m\n\u001b[1;32m    422\u001b[0m             \u001b[0mcontext\u001b[0m\u001b[0;34m=\u001b[0m\u001b[0mself\u001b[0m\u001b[0;34m,\u001b[0m\u001b[0;34m\u001b[0m\u001b[0;34m\u001b[0m\u001b[0m\n\u001b[0;32m--> 423\u001b[0;31m             \u001b[0msession\u001b[0m\u001b[0;34m=\u001b[0m\u001b[0msession\u001b[0m\u001b[0;34m\u001b[0m\u001b[0;34m\u001b[0m\u001b[0m\n\u001b[0m\u001b[1;32m    424\u001b[0m         )\n",
      "\u001b[0;32m~/miniconda3/envs/scratch/lib/python3.7/ssl.py\u001b[0m in \u001b[0;36m_create\u001b[0;34m(cls, sock, server_side, do_handshake_on_connect, suppress_ragged_eofs, server_hostname, context, session)\u001b[0m\n\u001b[1;32m    869\u001b[0m                         \u001b[0;32mraise\u001b[0m \u001b[0mValueError\u001b[0m\u001b[0;34m(\u001b[0m\u001b[0;34m\"do_handshake_on_connect should not be specified for non-blocking sockets\"\u001b[0m\u001b[0;34m)\u001b[0m\u001b[0;34m\u001b[0m\u001b[0;34m\u001b[0m\u001b[0m\n\u001b[0;32m--> 870\u001b[0;31m                     \u001b[0mself\u001b[0m\u001b[0;34m.\u001b[0m\u001b[0mdo_handshake\u001b[0m\u001b[0;34m(\u001b[0m\u001b[0;34m)\u001b[0m\u001b[0;34m\u001b[0m\u001b[0;34m\u001b[0m\u001b[0m\n\u001b[0m\u001b[1;32m    871\u001b[0m             \u001b[0;32mexcept\u001b[0m \u001b[0;34m(\u001b[0m\u001b[0mOSError\u001b[0m\u001b[0;34m,\u001b[0m \u001b[0mValueError\u001b[0m\u001b[0;34m)\u001b[0m\u001b[0;34m:\u001b[0m\u001b[0;34m\u001b[0m\u001b[0;34m\u001b[0m\u001b[0m\n",
      "\u001b[0;32m~/miniconda3/envs/scratch/lib/python3.7/ssl.py\u001b[0m in \u001b[0;36mdo_handshake\u001b[0;34m(self, block)\u001b[0m\n\u001b[1;32m   1138\u001b[0m                 \u001b[0mself\u001b[0m\u001b[0;34m.\u001b[0m\u001b[0msettimeout\u001b[0m\u001b[0;34m(\u001b[0m\u001b[0;32mNone\u001b[0m\u001b[0;34m)\u001b[0m\u001b[0;34m\u001b[0m\u001b[0;34m\u001b[0m\u001b[0m\n\u001b[0;32m-> 1139\u001b[0;31m             \u001b[0mself\u001b[0m\u001b[0;34m.\u001b[0m\u001b[0m_sslobj\u001b[0m\u001b[0;34m.\u001b[0m\u001b[0mdo_handshake\u001b[0m\u001b[0;34m(\u001b[0m\u001b[0;34m)\u001b[0m\u001b[0;34m\u001b[0m\u001b[0;34m\u001b[0m\u001b[0m\n\u001b[0m\u001b[1;32m   1140\u001b[0m         \u001b[0;32mfinally\u001b[0m\u001b[0;34m:\u001b[0m\u001b[0;34m\u001b[0m\u001b[0;34m\u001b[0m\u001b[0m\n",
      "\u001b[0;31mConnectionResetError\u001b[0m: [Errno 104] Connection reset by peer",
      "\nDuring handling of the above exception, another exception occurred:\n",
      "\u001b[0;31mProtocolError\u001b[0m                             Traceback (most recent call last)",
      "\u001b[0;32m~/miniconda3/envs/scratch/lib/python3.7/site-packages/requests/adapters.py\u001b[0m in \u001b[0;36msend\u001b[0;34m(self, request, stream, timeout, verify, cert, proxies)\u001b[0m\n\u001b[1;32m    448\u001b[0m                     \u001b[0mretries\u001b[0m\u001b[0;34m=\u001b[0m\u001b[0mself\u001b[0m\u001b[0;34m.\u001b[0m\u001b[0mmax_retries\u001b[0m\u001b[0;34m,\u001b[0m\u001b[0;34m\u001b[0m\u001b[0;34m\u001b[0m\u001b[0m\n\u001b[0;32m--> 449\u001b[0;31m                     \u001b[0mtimeout\u001b[0m\u001b[0;34m=\u001b[0m\u001b[0mtimeout\u001b[0m\u001b[0;34m\u001b[0m\u001b[0;34m\u001b[0m\u001b[0m\n\u001b[0m\u001b[1;32m    450\u001b[0m                 )\n",
      "\u001b[0;32m~/miniconda3/envs/scratch/lib/python3.7/site-packages/urllib3/connectionpool.py\u001b[0m in \u001b[0;36murlopen\u001b[0;34m(self, method, url, body, headers, retries, redirect, assert_same_host, timeout, pool_timeout, release_conn, chunked, body_pos, **response_kw)\u001b[0m\n\u001b[1;32m    719\u001b[0m             retries = retries.increment(\n\u001b[0;32m--> 720\u001b[0;31m                 \u001b[0mmethod\u001b[0m\u001b[0;34m,\u001b[0m \u001b[0murl\u001b[0m\u001b[0;34m,\u001b[0m \u001b[0merror\u001b[0m\u001b[0;34m=\u001b[0m\u001b[0me\u001b[0m\u001b[0;34m,\u001b[0m \u001b[0m_pool\u001b[0m\u001b[0;34m=\u001b[0m\u001b[0mself\u001b[0m\u001b[0;34m,\u001b[0m \u001b[0m_stacktrace\u001b[0m\u001b[0;34m=\u001b[0m\u001b[0msys\u001b[0m\u001b[0;34m.\u001b[0m\u001b[0mexc_info\u001b[0m\u001b[0;34m(\u001b[0m\u001b[0;34m)\u001b[0m\u001b[0;34m[\u001b[0m\u001b[0;36m2\u001b[0m\u001b[0;34m]\u001b[0m\u001b[0;34m\u001b[0m\u001b[0;34m\u001b[0m\u001b[0m\n\u001b[0m\u001b[1;32m    721\u001b[0m             )\n",
      "\u001b[0;32m~/miniconda3/envs/scratch/lib/python3.7/site-packages/urllib3/util/retry.py\u001b[0m in \u001b[0;36mincrement\u001b[0;34m(self, method, url, response, error, _pool, _stacktrace)\u001b[0m\n\u001b[1;32m    399\u001b[0m             \u001b[0;32mif\u001b[0m \u001b[0mread\u001b[0m \u001b[0;32mis\u001b[0m \u001b[0;32mFalse\u001b[0m \u001b[0;32mor\u001b[0m \u001b[0;32mnot\u001b[0m \u001b[0mself\u001b[0m\u001b[0;34m.\u001b[0m\u001b[0m_is_method_retryable\u001b[0m\u001b[0;34m(\u001b[0m\u001b[0mmethod\u001b[0m\u001b[0;34m)\u001b[0m\u001b[0;34m:\u001b[0m\u001b[0;34m\u001b[0m\u001b[0;34m\u001b[0m\u001b[0m\n\u001b[0;32m--> 400\u001b[0;31m                 \u001b[0;32mraise\u001b[0m \u001b[0msix\u001b[0m\u001b[0;34m.\u001b[0m\u001b[0mreraise\u001b[0m\u001b[0;34m(\u001b[0m\u001b[0mtype\u001b[0m\u001b[0;34m(\u001b[0m\u001b[0merror\u001b[0m\u001b[0;34m)\u001b[0m\u001b[0;34m,\u001b[0m \u001b[0merror\u001b[0m\u001b[0;34m,\u001b[0m \u001b[0m_stacktrace\u001b[0m\u001b[0;34m)\u001b[0m\u001b[0;34m\u001b[0m\u001b[0;34m\u001b[0m\u001b[0m\n\u001b[0m\u001b[1;32m    401\u001b[0m             \u001b[0;32melif\u001b[0m \u001b[0mread\u001b[0m \u001b[0;32mis\u001b[0m \u001b[0;32mnot\u001b[0m \u001b[0;32mNone\u001b[0m\u001b[0;34m:\u001b[0m\u001b[0;34m\u001b[0m\u001b[0;34m\u001b[0m\u001b[0m\n",
      "\u001b[0;32m~/miniconda3/envs/scratch/lib/python3.7/site-packages/urllib3/packages/six.py\u001b[0m in \u001b[0;36mreraise\u001b[0;34m(tp, value, tb)\u001b[0m\n\u001b[1;32m    733\u001b[0m             \u001b[0;32mif\u001b[0m \u001b[0mvalue\u001b[0m\u001b[0;34m.\u001b[0m\u001b[0m__traceback__\u001b[0m \u001b[0;32mis\u001b[0m \u001b[0;32mnot\u001b[0m \u001b[0mtb\u001b[0m\u001b[0;34m:\u001b[0m\u001b[0;34m\u001b[0m\u001b[0;34m\u001b[0m\u001b[0m\n\u001b[0;32m--> 734\u001b[0;31m                 \u001b[0;32mraise\u001b[0m \u001b[0mvalue\u001b[0m\u001b[0;34m.\u001b[0m\u001b[0mwith_traceback\u001b[0m\u001b[0;34m(\u001b[0m\u001b[0mtb\u001b[0m\u001b[0;34m)\u001b[0m\u001b[0;34m\u001b[0m\u001b[0;34m\u001b[0m\u001b[0m\n\u001b[0m\u001b[1;32m    735\u001b[0m             \u001b[0;32mraise\u001b[0m \u001b[0mvalue\u001b[0m\u001b[0;34m\u001b[0m\u001b[0;34m\u001b[0m\u001b[0m\n",
      "\u001b[0;32m~/miniconda3/envs/scratch/lib/python3.7/site-packages/urllib3/connectionpool.py\u001b[0m in \u001b[0;36murlopen\u001b[0;34m(self, method, url, body, headers, retries, redirect, assert_same_host, timeout, pool_timeout, release_conn, chunked, body_pos, **response_kw)\u001b[0m\n\u001b[1;32m    671\u001b[0m                 \u001b[0mheaders\u001b[0m\u001b[0;34m=\u001b[0m\u001b[0mheaders\u001b[0m\u001b[0;34m,\u001b[0m\u001b[0;34m\u001b[0m\u001b[0;34m\u001b[0m\u001b[0m\n\u001b[0;32m--> 672\u001b[0;31m                 \u001b[0mchunked\u001b[0m\u001b[0;34m=\u001b[0m\u001b[0mchunked\u001b[0m\u001b[0;34m,\u001b[0m\u001b[0;34m\u001b[0m\u001b[0;34m\u001b[0m\u001b[0m\n\u001b[0m\u001b[1;32m    673\u001b[0m             )\n",
      "\u001b[0;32m~/miniconda3/envs/scratch/lib/python3.7/site-packages/urllib3/connectionpool.py\u001b[0m in \u001b[0;36m_make_request\u001b[0;34m(self, conn, method, url, timeout, chunked, **httplib_request_kw)\u001b[0m\n\u001b[1;32m    375\u001b[0m         \u001b[0;32mtry\u001b[0m\u001b[0;34m:\u001b[0m\u001b[0;34m\u001b[0m\u001b[0;34m\u001b[0m\u001b[0m\n\u001b[0;32m--> 376\u001b[0;31m             \u001b[0mself\u001b[0m\u001b[0;34m.\u001b[0m\u001b[0m_validate_conn\u001b[0m\u001b[0;34m(\u001b[0m\u001b[0mconn\u001b[0m\u001b[0;34m)\u001b[0m\u001b[0;34m\u001b[0m\u001b[0;34m\u001b[0m\u001b[0m\n\u001b[0m\u001b[1;32m    377\u001b[0m         \u001b[0;32mexcept\u001b[0m \u001b[0;34m(\u001b[0m\u001b[0mSocketTimeout\u001b[0m\u001b[0;34m,\u001b[0m \u001b[0mBaseSSLError\u001b[0m\u001b[0;34m)\u001b[0m \u001b[0;32mas\u001b[0m \u001b[0me\u001b[0m\u001b[0;34m:\u001b[0m\u001b[0;34m\u001b[0m\u001b[0;34m\u001b[0m\u001b[0m\n",
      "\u001b[0;32m~/miniconda3/envs/scratch/lib/python3.7/site-packages/urllib3/connectionpool.py\u001b[0m in \u001b[0;36m_validate_conn\u001b[0;34m(self, conn)\u001b[0m\n\u001b[1;32m    993\u001b[0m         \u001b[0;32mif\u001b[0m \u001b[0;32mnot\u001b[0m \u001b[0mgetattr\u001b[0m\u001b[0;34m(\u001b[0m\u001b[0mconn\u001b[0m\u001b[0;34m,\u001b[0m \u001b[0;34m\"sock\"\u001b[0m\u001b[0;34m,\u001b[0m \u001b[0;32mNone\u001b[0m\u001b[0;34m)\u001b[0m\u001b[0;34m:\u001b[0m  \u001b[0;31m# AppEngine might not have  `.sock`\u001b[0m\u001b[0;34m\u001b[0m\u001b[0;34m\u001b[0m\u001b[0m\n\u001b[0;32m--> 994\u001b[0;31m             \u001b[0mconn\u001b[0m\u001b[0;34m.\u001b[0m\u001b[0mconnect\u001b[0m\u001b[0;34m(\u001b[0m\u001b[0;34m)\u001b[0m\u001b[0;34m\u001b[0m\u001b[0;34m\u001b[0m\u001b[0m\n\u001b[0m\u001b[1;32m    995\u001b[0m \u001b[0;34m\u001b[0m\u001b[0m\n",
      "\u001b[0;32m~/miniconda3/envs/scratch/lib/python3.7/site-packages/urllib3/connection.py\u001b[0m in \u001b[0;36mconnect\u001b[0;34m(self)\u001b[0m\n\u001b[1;32m    359\u001b[0m             \u001b[0mserver_hostname\u001b[0m\u001b[0;34m=\u001b[0m\u001b[0mserver_hostname\u001b[0m\u001b[0;34m,\u001b[0m\u001b[0;34m\u001b[0m\u001b[0;34m\u001b[0m\u001b[0m\n\u001b[0;32m--> 360\u001b[0;31m             \u001b[0mssl_context\u001b[0m\u001b[0;34m=\u001b[0m\u001b[0mcontext\u001b[0m\u001b[0;34m,\u001b[0m\u001b[0;34m\u001b[0m\u001b[0;34m\u001b[0m\u001b[0m\n\u001b[0m\u001b[1;32m    361\u001b[0m         )\n",
      "\u001b[0;32m~/miniconda3/envs/scratch/lib/python3.7/site-packages/urllib3/util/ssl_.py\u001b[0m in \u001b[0;36mssl_wrap_socket\u001b[0;34m(sock, keyfile, certfile, cert_reqs, ca_certs, server_hostname, ssl_version, ciphers, ssl_context, ca_cert_dir, key_password)\u001b[0m\n\u001b[1;32m    369\u001b[0m         \u001b[0;32mif\u001b[0m \u001b[0mHAS_SNI\u001b[0m \u001b[0;32mand\u001b[0m \u001b[0mserver_hostname\u001b[0m \u001b[0;32mis\u001b[0m \u001b[0;32mnot\u001b[0m \u001b[0;32mNone\u001b[0m\u001b[0;34m:\u001b[0m\u001b[0;34m\u001b[0m\u001b[0;34m\u001b[0m\u001b[0m\n\u001b[0;32m--> 370\u001b[0;31m             \u001b[0;32mreturn\u001b[0m \u001b[0mcontext\u001b[0m\u001b[0;34m.\u001b[0m\u001b[0mwrap_socket\u001b[0m\u001b[0;34m(\u001b[0m\u001b[0msock\u001b[0m\u001b[0;34m,\u001b[0m \u001b[0mserver_hostname\u001b[0m\u001b[0;34m=\u001b[0m\u001b[0mserver_hostname\u001b[0m\u001b[0;34m)\u001b[0m\u001b[0;34m\u001b[0m\u001b[0;34m\u001b[0m\u001b[0m\n\u001b[0m\u001b[1;32m    371\u001b[0m \u001b[0;34m\u001b[0m\u001b[0m\n",
      "\u001b[0;32m~/miniconda3/envs/scratch/lib/python3.7/ssl.py\u001b[0m in \u001b[0;36mwrap_socket\u001b[0;34m(self, sock, server_side, do_handshake_on_connect, suppress_ragged_eofs, server_hostname, session)\u001b[0m\n\u001b[1;32m    422\u001b[0m             \u001b[0mcontext\u001b[0m\u001b[0;34m=\u001b[0m\u001b[0mself\u001b[0m\u001b[0;34m,\u001b[0m\u001b[0;34m\u001b[0m\u001b[0;34m\u001b[0m\u001b[0m\n\u001b[0;32m--> 423\u001b[0;31m             \u001b[0msession\u001b[0m\u001b[0;34m=\u001b[0m\u001b[0msession\u001b[0m\u001b[0;34m\u001b[0m\u001b[0;34m\u001b[0m\u001b[0m\n\u001b[0m\u001b[1;32m    424\u001b[0m         )\n",
      "\u001b[0;32m~/miniconda3/envs/scratch/lib/python3.7/ssl.py\u001b[0m in \u001b[0;36m_create\u001b[0;34m(cls, sock, server_side, do_handshake_on_connect, suppress_ragged_eofs, server_hostname, context, session)\u001b[0m\n\u001b[1;32m    869\u001b[0m                         \u001b[0;32mraise\u001b[0m \u001b[0mValueError\u001b[0m\u001b[0;34m(\u001b[0m\u001b[0;34m\"do_handshake_on_connect should not be specified for non-blocking sockets\"\u001b[0m\u001b[0;34m)\u001b[0m\u001b[0;34m\u001b[0m\u001b[0;34m\u001b[0m\u001b[0m\n\u001b[0;32m--> 870\u001b[0;31m                     \u001b[0mself\u001b[0m\u001b[0;34m.\u001b[0m\u001b[0mdo_handshake\u001b[0m\u001b[0;34m(\u001b[0m\u001b[0;34m)\u001b[0m\u001b[0;34m\u001b[0m\u001b[0;34m\u001b[0m\u001b[0m\n\u001b[0m\u001b[1;32m    871\u001b[0m             \u001b[0;32mexcept\u001b[0m \u001b[0;34m(\u001b[0m\u001b[0mOSError\u001b[0m\u001b[0;34m,\u001b[0m \u001b[0mValueError\u001b[0m\u001b[0;34m)\u001b[0m\u001b[0;34m:\u001b[0m\u001b[0;34m\u001b[0m\u001b[0;34m\u001b[0m\u001b[0m\n",
      "\u001b[0;32m~/miniconda3/envs/scratch/lib/python3.7/ssl.py\u001b[0m in \u001b[0;36mdo_handshake\u001b[0;34m(self, block)\u001b[0m\n\u001b[1;32m   1138\u001b[0m                 \u001b[0mself\u001b[0m\u001b[0;34m.\u001b[0m\u001b[0msettimeout\u001b[0m\u001b[0;34m(\u001b[0m\u001b[0;32mNone\u001b[0m\u001b[0;34m)\u001b[0m\u001b[0;34m\u001b[0m\u001b[0;34m\u001b[0m\u001b[0m\n\u001b[0;32m-> 1139\u001b[0;31m             \u001b[0mself\u001b[0m\u001b[0;34m.\u001b[0m\u001b[0m_sslobj\u001b[0m\u001b[0;34m.\u001b[0m\u001b[0mdo_handshake\u001b[0m\u001b[0;34m(\u001b[0m\u001b[0;34m)\u001b[0m\u001b[0;34m\u001b[0m\u001b[0;34m\u001b[0m\u001b[0m\n\u001b[0m\u001b[1;32m   1140\u001b[0m         \u001b[0;32mfinally\u001b[0m\u001b[0;34m:\u001b[0m\u001b[0;34m\u001b[0m\u001b[0;34m\u001b[0m\u001b[0m\n",
      "\u001b[0;31mProtocolError\u001b[0m: ('Connection aborted.', ConnectionResetError(104, 'Connection reset by peer'))",
      "\nDuring handling of the above exception, another exception occurred:\n",
      "\u001b[0;31mConnectionError\u001b[0m                           Traceback (most recent call last)",
      "\u001b[0;32m<ipython-input-43-a355eecd0347>\u001b[0m in \u001b[0;36m<module>\u001b[0;34m\u001b[0m\n\u001b[1;32m     47\u001b[0m                             \u001b[0mmodel_call\u001b[0m\u001b[0;34m.\u001b[0m\u001b[0mstatus_code\u001b[0m \u001b[0;34m=\u001b[0m \u001b[0;36m504\u001b[0m\u001b[0;34m\u001b[0m\u001b[0;34m\u001b[0m\u001b[0m\n\u001b[1;32m     48\u001b[0m                             \u001b[0;32mwhile\u001b[0m\u001b[0;34m(\u001b[0m \u001b[0mmodel_call\u001b[0m\u001b[0;34m.\u001b[0m\u001b[0mstatus_code\u001b[0m \u001b[0;34m==\u001b[0m \u001b[0;36m504\u001b[0m\u001b[0;34m)\u001b[0m\u001b[0;34m:\u001b[0m\u001b[0;34m\u001b[0m\u001b[0;34m\u001b[0m\u001b[0m\n\u001b[0;32m---> 49\u001b[0;31m                                 \u001b[0mmodel_call\u001b[0m \u001b[0;34m=\u001b[0m \u001b[0mrequests\u001b[0m\u001b[0;34m.\u001b[0m\u001b[0mget\u001b[0m\u001b[0;34m(\u001b[0m\u001b[0mgetServiceList\u001b[0m\u001b[0;34m,\u001b[0m \u001b[0mheaders\u001b[0m \u001b[0;34m=\u001b[0m \u001b[0mheaders\u001b[0m\u001b[0;34m,\u001b[0m \u001b[0mtimeout\u001b[0m\u001b[0;34m=\u001b[0m\u001b[0;32mNone\u001b[0m\u001b[0;34m)\u001b[0m\u001b[0;34m\u001b[0m\u001b[0;34m\u001b[0m\u001b[0m\n\u001b[0m\u001b[1;32m     50\u001b[0m                             \u001b[0mresult\u001b[0m \u001b[0;34m=\u001b[0m \u001b[0mmodel_call\u001b[0m\u001b[0;34m.\u001b[0m\u001b[0mcontent\u001b[0m\u001b[0;34m\u001b[0m\u001b[0;34m\u001b[0m\u001b[0m\n\u001b[1;32m     51\u001b[0m                             \u001b[0;31m# print(result)\u001b[0m\u001b[0;34m\u001b[0m\u001b[0;34m\u001b[0m\u001b[0;34m\u001b[0m\u001b[0m\n",
      "\u001b[0;32m~/miniconda3/envs/scratch/lib/python3.7/site-packages/requests/api.py\u001b[0m in \u001b[0;36mget\u001b[0;34m(url, params, **kwargs)\u001b[0m\n\u001b[1;32m     73\u001b[0m \u001b[0;34m\u001b[0m\u001b[0m\n\u001b[1;32m     74\u001b[0m     \u001b[0mkwargs\u001b[0m\u001b[0;34m.\u001b[0m\u001b[0msetdefault\u001b[0m\u001b[0;34m(\u001b[0m\u001b[0;34m'allow_redirects'\u001b[0m\u001b[0;34m,\u001b[0m \u001b[0;32mTrue\u001b[0m\u001b[0;34m)\u001b[0m\u001b[0;34m\u001b[0m\u001b[0;34m\u001b[0m\u001b[0m\n\u001b[0;32m---> 75\u001b[0;31m     \u001b[0;32mreturn\u001b[0m \u001b[0mrequest\u001b[0m\u001b[0;34m(\u001b[0m\u001b[0;34m'get'\u001b[0m\u001b[0;34m,\u001b[0m \u001b[0murl\u001b[0m\u001b[0;34m,\u001b[0m \u001b[0mparams\u001b[0m\u001b[0;34m=\u001b[0m\u001b[0mparams\u001b[0m\u001b[0;34m,\u001b[0m \u001b[0;34m**\u001b[0m\u001b[0mkwargs\u001b[0m\u001b[0;34m)\u001b[0m\u001b[0;34m\u001b[0m\u001b[0;34m\u001b[0m\u001b[0m\n\u001b[0m\u001b[1;32m     76\u001b[0m \u001b[0;34m\u001b[0m\u001b[0m\n\u001b[1;32m     77\u001b[0m \u001b[0;34m\u001b[0m\u001b[0m\n",
      "\u001b[0;32m~/miniconda3/envs/scratch/lib/python3.7/site-packages/requests/api.py\u001b[0m in \u001b[0;36mrequest\u001b[0;34m(method, url, **kwargs)\u001b[0m\n\u001b[1;32m     58\u001b[0m     \u001b[0;31m# cases, and look like a memory leak in others.\u001b[0m\u001b[0;34m\u001b[0m\u001b[0;34m\u001b[0m\u001b[0;34m\u001b[0m\u001b[0m\n\u001b[1;32m     59\u001b[0m     \u001b[0;32mwith\u001b[0m \u001b[0msessions\u001b[0m\u001b[0;34m.\u001b[0m\u001b[0mSession\u001b[0m\u001b[0;34m(\u001b[0m\u001b[0;34m)\u001b[0m \u001b[0;32mas\u001b[0m \u001b[0msession\u001b[0m\u001b[0;34m:\u001b[0m\u001b[0;34m\u001b[0m\u001b[0;34m\u001b[0m\u001b[0m\n\u001b[0;32m---> 60\u001b[0;31m         \u001b[0;32mreturn\u001b[0m \u001b[0msession\u001b[0m\u001b[0;34m.\u001b[0m\u001b[0mrequest\u001b[0m\u001b[0;34m(\u001b[0m\u001b[0mmethod\u001b[0m\u001b[0;34m=\u001b[0m\u001b[0mmethod\u001b[0m\u001b[0;34m,\u001b[0m \u001b[0murl\u001b[0m\u001b[0;34m=\u001b[0m\u001b[0murl\u001b[0m\u001b[0;34m,\u001b[0m \u001b[0;34m**\u001b[0m\u001b[0mkwargs\u001b[0m\u001b[0;34m)\u001b[0m\u001b[0;34m\u001b[0m\u001b[0;34m\u001b[0m\u001b[0m\n\u001b[0m\u001b[1;32m     61\u001b[0m \u001b[0;34m\u001b[0m\u001b[0m\n\u001b[1;32m     62\u001b[0m \u001b[0;34m\u001b[0m\u001b[0m\n",
      "\u001b[0;32m~/miniconda3/envs/scratch/lib/python3.7/site-packages/requests/sessions.py\u001b[0m in \u001b[0;36mrequest\u001b[0;34m(self, method, url, params, data, headers, cookies, files, auth, timeout, allow_redirects, proxies, hooks, stream, verify, cert, json)\u001b[0m\n\u001b[1;32m    531\u001b[0m         }\n\u001b[1;32m    532\u001b[0m         \u001b[0msend_kwargs\u001b[0m\u001b[0;34m.\u001b[0m\u001b[0mupdate\u001b[0m\u001b[0;34m(\u001b[0m\u001b[0msettings\u001b[0m\u001b[0;34m)\u001b[0m\u001b[0;34m\u001b[0m\u001b[0;34m\u001b[0m\u001b[0m\n\u001b[0;32m--> 533\u001b[0;31m         \u001b[0mresp\u001b[0m \u001b[0;34m=\u001b[0m \u001b[0mself\u001b[0m\u001b[0;34m.\u001b[0m\u001b[0msend\u001b[0m\u001b[0;34m(\u001b[0m\u001b[0mprep\u001b[0m\u001b[0;34m,\u001b[0m \u001b[0;34m**\u001b[0m\u001b[0msend_kwargs\u001b[0m\u001b[0;34m)\u001b[0m\u001b[0;34m\u001b[0m\u001b[0;34m\u001b[0m\u001b[0m\n\u001b[0m\u001b[1;32m    534\u001b[0m \u001b[0;34m\u001b[0m\u001b[0m\n\u001b[1;32m    535\u001b[0m         \u001b[0;32mreturn\u001b[0m \u001b[0mresp\u001b[0m\u001b[0;34m\u001b[0m\u001b[0;34m\u001b[0m\u001b[0m\n",
      "\u001b[0;32m~/miniconda3/envs/scratch/lib/python3.7/site-packages/requests/sessions.py\u001b[0m in \u001b[0;36msend\u001b[0;34m(self, request, **kwargs)\u001b[0m\n\u001b[1;32m    644\u001b[0m \u001b[0;34m\u001b[0m\u001b[0m\n\u001b[1;32m    645\u001b[0m         \u001b[0;31m# Send the request\u001b[0m\u001b[0;34m\u001b[0m\u001b[0;34m\u001b[0m\u001b[0;34m\u001b[0m\u001b[0m\n\u001b[0;32m--> 646\u001b[0;31m         \u001b[0mr\u001b[0m \u001b[0;34m=\u001b[0m \u001b[0madapter\u001b[0m\u001b[0;34m.\u001b[0m\u001b[0msend\u001b[0m\u001b[0;34m(\u001b[0m\u001b[0mrequest\u001b[0m\u001b[0;34m,\u001b[0m \u001b[0;34m**\u001b[0m\u001b[0mkwargs\u001b[0m\u001b[0;34m)\u001b[0m\u001b[0;34m\u001b[0m\u001b[0;34m\u001b[0m\u001b[0m\n\u001b[0m\u001b[1;32m    647\u001b[0m \u001b[0;34m\u001b[0m\u001b[0m\n\u001b[1;32m    648\u001b[0m         \u001b[0;31m# Total elapsed time of the request (approximately)\u001b[0m\u001b[0;34m\u001b[0m\u001b[0;34m\u001b[0m\u001b[0;34m\u001b[0m\u001b[0m\n",
      "\u001b[0;32m~/miniconda3/envs/scratch/lib/python3.7/site-packages/requests/adapters.py\u001b[0m in \u001b[0;36msend\u001b[0;34m(self, request, stream, timeout, verify, cert, proxies)\u001b[0m\n\u001b[1;32m    496\u001b[0m \u001b[0;34m\u001b[0m\u001b[0m\n\u001b[1;32m    497\u001b[0m         \u001b[0;32mexcept\u001b[0m \u001b[0;34m(\u001b[0m\u001b[0mProtocolError\u001b[0m\u001b[0;34m,\u001b[0m \u001b[0msocket\u001b[0m\u001b[0;34m.\u001b[0m\u001b[0merror\u001b[0m\u001b[0;34m)\u001b[0m \u001b[0;32mas\u001b[0m \u001b[0merr\u001b[0m\u001b[0;34m:\u001b[0m\u001b[0;34m\u001b[0m\u001b[0;34m\u001b[0m\u001b[0m\n\u001b[0;32m--> 498\u001b[0;31m             \u001b[0;32mraise\u001b[0m \u001b[0mConnectionError\u001b[0m\u001b[0;34m(\u001b[0m\u001b[0merr\u001b[0m\u001b[0;34m,\u001b[0m \u001b[0mrequest\u001b[0m\u001b[0;34m=\u001b[0m\u001b[0mrequest\u001b[0m\u001b[0;34m)\u001b[0m\u001b[0;34m\u001b[0m\u001b[0;34m\u001b[0m\u001b[0m\n\u001b[0m\u001b[1;32m    499\u001b[0m \u001b[0;34m\u001b[0m\u001b[0m\n\u001b[1;32m    500\u001b[0m         \u001b[0;32mexcept\u001b[0m \u001b[0mMaxRetryError\u001b[0m \u001b[0;32mas\u001b[0m \u001b[0me\u001b[0m\u001b[0;34m:\u001b[0m\u001b[0;34m\u001b[0m\u001b[0;34m\u001b[0m\u001b[0m\n",
      "\u001b[0;31mConnectionError\u001b[0m: ('Connection aborted.', ConnectionResetError(104, 'Connection reset by peer'))"
     ]
    }
   ],
   "source": [
    "#maruti suzuki remains, id = 38, 41, 49,52,53\n",
    "for make_dict in tqdm(make_list[53:54]):\n",
    "    # print(make_dict)\n",
    "    make = make_dict['value'].split()\n",
    "    make = '+'.join(make)\n",
    "    make_id = make_dict['data-make-id']\n",
    "    getModelList = 'https://droom.in/getRepairServiceModelList?make='+make+'&make_id='+make_id+'&bucket=cars'\n",
    "    # print(make, make_id)\n",
    "    model_call.status_code = 504\n",
    "    while(model_call.status_code == 504):\n",
    "        model_call = requests.get(getModelList, headers = headers, timeout=None)\n",
    "    model_response = model_call.content\n",
    "    model_list = json.loads(model_response.decode('utf-8'))['data']\n",
    "    for model_dict in tqdm(model_list):\n",
    "        model = model_dict['model_org_name'].split()\n",
    "        model = '+'.join(model)\n",
    "        model_id = model_dict['model_id']\n",
    "        # print(make, make_id, model, model_id)\n",
    "        getTrimList = \"https://droom.in/getRepairServiceTrimList?make=\"+make+\"&make_id=\"+make_id+\"&model=\"+model+\"&model_id=\"+model_id+\"&bucket=cars\"\n",
    "        # print(getTrimList)\n",
    "        model_call.status_code = 504\n",
    "        while(model_call.status_code == 504):\n",
    "            model_call = requests.get(getTrimList, headers = headers, timeout=None)\n",
    "        trim_response = model_call.content\n",
    "        trim_list = json.loads(trim_response.decode('utf-8'))['data']\n",
    "        for trim_dict in tqdm(trim_list):\n",
    "            if 'trim_org_name' in trim_dict.keys():\n",
    "                trim = trim_dict['trim_org_name'].split()\n",
    "                trim = '+'.join(trim)\n",
    "                trim_id = trim_dict['trim_id']\n",
    "                if trim_id != '':\n",
    "                    print(make, make_id, model, model_id, trim, trim_id)\n",
    "                    getTrimDetails = \"https://droom.in/getRepairServiceTrimDetails?make=\"+make+\"&make_id=\"+make_id+\"&model=\"+model+\"&model_id=\"+model_id+\"&bucket=cars&trim=\"+trim+\"&trim_id=\"+trim_id\n",
    "                    # print(getTrimDetails)\n",
    "                    model_call.status_code = 504\n",
    "                    while(model_call.status_code == 504):\n",
    "                        model_call = requests.get(getTrimDetails, headers = headers, timeout=None)\n",
    "                        print(\"status code is 504\")\n",
    "                    service_response = model_call.content\n",
    "                    service_dict = json.loads(service_response.decode('utf-8'))\n",
    "                # print(service_dict)\n",
    "                    if 'data' in service_dict.keys():\n",
    "                        fuel_type = service_dict['data']['fuel_type']\n",
    "                        body_type = service_dict['data']['body_type']\n",
    "                        if fuel_type != '':\n",
    "                            getServiceList =  \"https://droom.in/getRepairServicesList?trim_id=\"+trim_id+\"&body_type=\"+body_type+\"&fuel_type=\"+fuel_type\n",
    "                            model_call.status_code = 504\n",
    "                            while( model_call.status_code == 504):\n",
    "                                model_call = requests.get(getServiceList, headers = headers, timeout=None)\n",
    "                            result = model_call.content\n",
    "                            # print(result)\n",
    "                            result_dict = json.loads(result.decode('utf-8'))\n",
    "                            if result_dict['data'] != '':\n",
    "                                prices_soup = BeautifulSoup(result, 'lxml')\n",
    "                                body_soup = prices_soup.find_all('div', attrs = {'id':'\\\\\"outer-body-repair-service\\\\\"'})\n",
    "                                parts = body_soup[0].find_all('input')\n",
    "                                prices_list = []\n",
    "                                for part, part_name in zip(parts, names_list):\n",
    "                                    prices_dict = {}\n",
    "                                    # part_name = part.attrs['value'].strip('\\\\\"')\n",
    "                                    prices_dict['part_name'] = part_name\n",
    "                                    price_min = part.attrs['data-price-min'].strip('\\\\\"')\n",
    "                                    prices_dict['price_min'] = price_min\n",
    "                                    price_max = part.attrs['data-price-max'].strip('\\\\\"')\n",
    "                                    prices_dict['price_max'] = price_max\n",
    "                                    prices_list.append(prices_dict)\n",
    "                                service_dict['prices_list'] = prices_list\n",
    "                                # print(prices_list)\n",
    "                                trim_dict['data'] = service_dict\n",
    "        model_dict['trim_list'] = trim_list\n",
    "    make_dict['model_list'] = model_list"
   ]
  },
  {
   "cell_type": "code",
   "execution_count": 40,
   "metadata": {},
   "outputs": [
    {
     "output_type": "execute_result",
     "data": {
      "text/plain": [
       "{'value': 'Tata', 'data-make-id': '21'}"
      ]
     },
     "metadata": {},
     "execution_count": 40
    }
   ],
   "source": [
    "make_list[52]\n"
   ]
  },
  {
   "cell_type": "code",
   "execution_count": 39,
   "metadata": {},
   "outputs": [
    {
     "output_type": "stream",
     "name": "stdout",
     "text": [
      "Renault.json\n"
     ]
    }
   ],
   "source": [
    "for i in range(49,50):\n",
    "    name = make_list[i]['value'].split()\n",
    "    name = '_'.join(name)+'.json'\n",
    "    print(name)\n",
    "    with open(name, \"w\") as outfile:  \n",
    "        json.dump(make_list[i], outfile) "
   ]
  },
  {
   "cell_type": "code",
   "execution_count": 170,
   "metadata": {},
   "outputs": [],
   "source": [
    "model_call = requests.get('https://droom.in/getRepairServiceTrimDetails?make=Ashok+Leyland&make_id=461&model=Stile&model_id=5311&bucket=cars&trim=LE&trim_id=444771', headers  = headers)\n",
    "service_response = model_call.content"
   ]
  },
  {
   "cell_type": "code",
   "execution_count": 171,
   "metadata": {},
   "outputs": [
    {
     "output_type": "execute_result",
     "data": {
      "text/plain": [
       "b'{\"code\":\"success\",\"data\":{\"fuel_type\":\"diesel\",\"body_type\":\"muv\",\"vehicle_image\":\"https:\\\\/\\\\/cdn1.acedms.com\\\\/uploads\\\\/category\\\\/ashok-leyland\\\\/20171108110033000000-1859412813505688321.png\"}}'"
      ]
     },
     "metadata": {},
     "execution_count": 171
    }
   ],
   "source": [
    "service_response"
   ]
  },
  {
   "cell_type": "code",
   "execution_count": 160,
   "metadata": {},
   "outputs": [
    {
     "output_type": "execute_result",
     "data": {
      "text/plain": [
       "'https://droom.in/getRepairServiceTrimDetails?make=Audi&make_id=801&model=A3&model_id=8341&bucket=cars&trim=&trim_id='"
      ]
     },
     "metadata": {},
     "execution_count": 160
    }
   ],
   "source": [
    "getTrimDetails"
   ]
  },
  {
   "cell_type": "code",
   "execution_count": 66,
   "metadata": {},
   "outputs": [
    {
     "output_type": "execute_result",
     "data": {
      "text/plain": [
       "'https://droom.in/getRepairServiceModelList?make=Audi&make_id=801&bucket=cars'"
      ]
     },
     "metadata": {},
     "execution_count": 66
    }
   ],
   "source": [
    "getModelList"
   ]
  },
  {
   "cell_type": "code",
   "execution_count": 67,
   "metadata": {},
   "outputs": [],
   "source": [
    "model_call = requests.get(getModelList, headers = headers)\n",
    "# model_call.content"
   ]
  },
  {
   "cell_type": "code",
   "execution_count": 68,
   "metadata": {},
   "outputs": [
    {
     "output_type": "execute_result",
     "data": {
      "text/plain": [
       "bytes"
      ]
     },
     "metadata": {},
     "execution_count": 68
    }
   ],
   "source": [
    "model_response = model_call.content\n",
    "type(model_response)"
   ]
  },
  {
   "cell_type": "code",
   "execution_count": null,
   "metadata": {},
   "outputs": [],
   "source": []
  },
  {
   "cell_type": "code",
   "execution_count": 69,
   "metadata": {},
   "outputs": [],
   "source": [
    "import json"
   ]
  },
  {
   "cell_type": "code",
   "execution_count": 124,
   "metadata": {},
   "outputs": [],
   "source": [
    "model_dict = json.loads(model_response.decode('utf-8')) \n",
    "model_dict"
   ]
  },
  {
   "cell_type": "code",
   "execution_count": 71,
   "metadata": {},
   "outputs": [
    {
     "output_type": "execute_result",
     "data": {
      "text/plain": [
       "{'model_org_name': 'A3',\n",
       " 'ex_showroom_price': 4475000,\n",
       " 'body_type': 'sedan',\n",
       " 'model': 'a3',\n",
       " 'model_id': '8341',\n",
       " 'make_id': '801',\n",
       " 'make': 'audi'}"
      ]
     },
     "metadata": {},
     "execution_count": 71
    }
   ],
   "source": [
    "model_list = model_dict['data']\n",
    "model_list[0]"
   ]
  },
  {
   "cell_type": "code",
   "execution_count": 72,
   "metadata": {},
   "outputs": [
    {
     "output_type": "execute_result",
     "data": {
      "text/plain": [
       "('A3', '8341')"
      ]
     },
     "metadata": {},
     "execution_count": 72
    }
   ],
   "source": [
    "model = model_list[0]['model_org_name']\n",
    "model_id = model_list[0]['model_id']\n",
    "model, model_id"
   ]
  },
  {
   "cell_type": "code",
   "execution_count": 18,
   "metadata": {},
   "outputs": [],
   "source": [
    "#print all available models\n",
    "# for item in model_list:\n",
    "#     print(item['model_org_name'])"
   ]
  },
  {
   "cell_type": "code",
   "execution_count": 73,
   "metadata": {},
   "outputs": [
    {
     "output_type": "execute_result",
     "data": {
      "text/plain": [
       "('Audi', '801', 'A3', '8341')"
      ]
     },
     "metadata": {},
     "execution_count": 73
    }
   ],
   "source": [
    "make, make_id, model, model_id"
   ]
  },
  {
   "cell_type": "code",
   "execution_count": 74,
   "metadata": {},
   "outputs": [],
   "source": [
    "getTrimList = \"https://droom.in/getRepairServiceTrimList?make=\"+make+\"&make_id=\"+make_id+\"&model=\"+model+\"&model_id=\"+model_id+\"&bucket=cars\""
   ]
  },
  {
   "cell_type": "code",
   "execution_count": 75,
   "metadata": {},
   "outputs": [
    {
     "output_type": "execute_result",
     "data": {
      "text/plain": [
       "'https://droom.in/getRepairServiceTrimList?make=Audi&make_id=801&model=A3&model_id=8341&bucket=cars'"
      ]
     },
     "metadata": {},
     "execution_count": 75
    }
   ],
   "source": [
    "getTrimList"
   ]
  },
  {
   "cell_type": "code",
   "execution_count": 76,
   "metadata": {},
   "outputs": [],
   "source": [
    "model_call = requests.get(getTrimList, headers = headers)\n",
    "trim_response = model_call.content"
   ]
  },
  {
   "cell_type": "code",
   "execution_count": 77,
   "metadata": {},
   "outputs": [],
   "source": [
    "trim_dict = json.loads(trim_response.decode('utf-8')) "
   ]
  },
  {
   "cell_type": "code",
   "execution_count": 78,
   "metadata": {},
   "outputs": [
    {
     "output_type": "execute_result",
     "data": {
      "text/plain": [
       "{'trim': '1.8 tfsi',\n",
       " 'model_org_name': 'A3',\n",
       " 'ex_showroom_price': 2955400,\n",
       " 'body_type': 'sedan',\n",
       " 'model': 'a3',\n",
       " 'model_id': '8341',\n",
       " 'fuel_type': 'petrol',\n",
       " 'make_id': '801',\n",
       " 'trim_id': '376611',\n",
       " 'make': 'audi',\n",
       " 'trim_org_name': '1.8 TFSI'}"
      ]
     },
     "metadata": {},
     "execution_count": 78
    }
   ],
   "source": [
    "trim_dict['data'][0]"
   ]
  },
  {
   "cell_type": "code",
   "execution_count": 79,
   "metadata": {},
   "outputs": [
    {
     "output_type": "execute_result",
     "data": {
      "text/plain": [
       "('1.8+TFSI', '376611')"
      ]
     },
     "metadata": {},
     "execution_count": 79
    }
   ],
   "source": [
    "trim = trim_dict['data'][0]['trim_org_name'].split()\n",
    "trim = '+'.join(trim)\n",
    "trim_id = trim_dict['data'][0]['trim_id']\n",
    "trim, trim_id\n",
    "getTrimDetails = \"https://droom.in/getRepairServiceTrimDetails?make=Audi&make_id=801&model=A3&model_id=8341&bucket=cars&trim=\"+trim+\"&trim_id=\"+trim_id"
   ]
  },
  {
   "cell_type": "code",
   "execution_count": 80,
   "metadata": {},
   "outputs": [
    {
     "output_type": "execute_result",
     "data": {
      "text/plain": [
       "'https://droom.in/getRepairServiceTrimDetails?make=Audi&make_id=801&model=A3&model_id=8341&bucket=cars&trim=1.8+TFSI&trim_id=376611'"
      ]
     },
     "metadata": {},
     "execution_count": 80
    }
   ],
   "source": [
    "getTrimDetails = \"https://droom.in/getRepairServiceTrimDetails?make=Audi&make_id=801&model=A3&model_id=8341&bucket=cars&trim=\"+trim+\"&trim_id=\"+trim_id\n",
    "getTrimDetails"
   ]
  },
  {
   "cell_type": "code",
   "execution_count": 52,
   "metadata": {},
   "outputs": [],
   "source": [
    "getTrimDetails = 'https://droom.in/getRepairServiceTrimDetails?make=Audi&make_id=801&model=A3&model_id=8341&bucket=cars&trim=1.8+TFSI&trim_id=376611'"
   ]
  },
  {
   "cell_type": "code",
   "execution_count": 61,
   "metadata": {},
   "outputs": [],
   "source": [
    "model_call = requests.get(getTrimDetails, headers  = headers)\n",
    "service_response = model_call.content"
   ]
  },
  {
   "cell_type": "code",
   "execution_count": 62,
   "metadata": {},
   "outputs": [
    {
     "output_type": "execute_result",
     "data": {
      "text/plain": [
       "b'{\"code\":\"success\",\"data\":{\"fuel_type\":\"petrol\",\"body_type\":\"sedan\",\"vehicle_image\":\"https:\\\\/\\\\/cdn1.acedms.com\\\\/uploads\\\\/category\\\\/audi\\\\/20170926092600000000-7586353322518107137.png\"}}'"
      ]
     },
     "metadata": {},
     "execution_count": 62
    }
   ],
   "source": [
    "service_response"
   ]
  },
  {
   "cell_type": "code",
   "execution_count": 63,
   "metadata": {},
   "outputs": [
    {
     "output_type": "execute_result",
     "data": {
      "text/plain": [
       "{'code': 'success',\n",
       " 'data': {'fuel_type': 'petrol',\n",
       "  'body_type': 'sedan',\n",
       "  'vehicle_image': 'https://cdn1.acedms.com/uploads/category/audi/20170926092600000000-7586353322518107137.png'}}"
      ]
     },
     "metadata": {},
     "execution_count": 63
    }
   ],
   "source": [
    "service_dict = json.loads(service_response.decode('utf-8'))\n",
    "service_dict"
   ]
  },
  {
   "cell_type": "code",
   "execution_count": 55,
   "metadata": {},
   "outputs": [],
   "source": [
    "getServiceList = \"https://droom.in/getRepairServicesList?trim_id=376611&body_type=sedan&fuel_type=petrol\""
   ]
  },
  {
   "cell_type": "code",
   "execution_count": 57,
   "metadata": {},
   "outputs": [],
   "source": [
    "model_call = requests.get(getServiceList, headers  = headers)\n",
    "service_response = model_call.content\n",
    "# service_response"
   ]
  },
  {
   "cell_type": "code",
   "execution_count": 17,
   "metadata": {},
   "outputs": [],
   "source": [
    "if 'dat' in service_dict.keys():\n",
    "    print('fasf')"
   ]
  },
  {
   "cell_type": "code",
   "execution_count": 64,
   "metadata": {},
   "outputs": [],
   "source": [
    "if 'data' in service_dict.keys():\n",
    "    fuel_type = service_dict['data']['fuel_type']\n",
    "    body_type = service_dict['data']['body_type']\n",
    "    getServiceList =  \"https://droom.in/getRepairServicesList?trim_id=\"+trim_id+\"&body_type=\"+body_type+\"&fuel_type=\"+fuel_type\n",
    "    model_call = requests.get(getServiceList, headers = headers)\n",
    "    result = model_call.content\n",
    "    prices_soup = BeautifulSoup(result, 'lxml')\n",
    "    body_soup = prices_soup.find_all('div', attrs = {'id':'\\\\\"outer-body-repair-service\\\\\"'})\n",
    "    parts = body_soup[0].find_all('input')\n",
    "    prices_list = []\n",
    "    for part, part_name in zip(parts, names_list):\n",
    "        prices_dict = {}\n",
    "        # part_name = part.attrs['value'].strip('\\\\\"')\n",
    "        prices_dict['part_name'] = part_name\n",
    "        price_min = part.attrs['data-price-min'].strip('\\\\\"')\n",
    "        prices_dict['price_min'] = price_min\n",
    "        price_max = part.attrs['data-price-max'].strip('\\\\\"')\n",
    "        prices_dict['price_max'] = price_max\n",
    "        prices_list.append(prices_dict)\n",
    "    service_dict['prices_list'] = prices_list"
   ]
  },
  {
   "cell_type": "code",
   "execution_count": 65,
   "metadata": {},
   "outputs": [
    {
     "output_type": "execute_result",
     "data": {
      "text/plain": [
       "{'code': 'success',\n",
       " 'data': {'fuel_type': 'petrol',\n",
       "  'body_type': 'sedan',\n",
       "  'vehicle_image': 'https://cdn1.acedms.com/uploads/category/audi/20170926092600000000-7586353322518107137.png'},\n",
       " 'prices_list': [{'part_name': 'Wiper Blades',\n",
       "   'price_min': '540',\n",
       "   'price_max': '660'},\n",
       "  {'part_name': 'Front Bumper', 'price_min': '2080', 'price_max': '2540'},\n",
       "  {'part_name': 'Front Fender', 'price_min': '1720', 'price_max': '2100'},\n",
       "  {'part_name': 'Bonnet', 'price_min': '4030', 'price_max': '4920'},\n",
       "  {'part_name': 'Front Door', 'price_min': '6150', 'price_max': '7520'},\n",
       "  {'part_name': 'Bootlid', 'price_min': '4690', 'price_max': '5730'},\n",
       "  {'part_name': 'Front Windscreen Glass',\n",
       "   'price_min': '3130',\n",
       "   'price_max': '3830'},\n",
       "  {'part_name': 'Side Mirrors', 'price_min': '1280', 'price_max': '1560'},\n",
       "  {'part_name': 'Front Strut', 'price_min': '1600', 'price_max': '1950'},\n",
       "  {'part_name': 'Front Suspension Lower Arm',\n",
       "   'price_min': '1650',\n",
       "   'price_max': '2020'},\n",
       "  {'part_name': 'Suspension Overhaul',\n",
       "   'price_min': '2430',\n",
       "   'price_max': '2970'}]}"
      ]
     },
     "metadata": {},
     "execution_count": 65
    }
   ],
   "source": [
    "service_dict"
   ]
  },
  {
   "cell_type": "code",
   "execution_count": 40,
   "metadata": {},
   "outputs": [
    {
     "output_type": "execute_result",
     "data": {
      "text/plain": [
       "<input body=\"\" data-price-max='\\\"7310\\\"' data-price-min='\\\"5980\\\"' data-service-head='\\\"Outer' door=\"\" repair=\"\" service=\"\" type='\\\"checkbox\\\"' value='\\\"Front'/>"
      ]
     },
     "metadata": {},
     "execution_count": 40
    }
   ],
   "source": [
    "parts[4]"
   ]
  },
  {
   "cell_type": "code",
   "execution_count": 85,
   "metadata": {},
   "outputs": [],
   "source": [
    "model_call = requests.get(getServiceList, headers = headers)\n",
    "result = model_call.content"
   ]
  },
  {
   "cell_type": "code",
   "execution_count": 27,
   "metadata": {},
   "outputs": [],
   "source": [
    "prices_soup = BeautifulSoup(result, 'lxml')\n",
    "# prices_soup"
   ]
  },
  {
   "cell_type": "code",
   "execution_count": 28,
   "metadata": {},
   "outputs": [],
   "source": [
    "body_soup = prices_soup.find_all('div', attrs = {'id':'\\\\\"outer-body-repair-service\\\\\"'})\n",
    "# body_soup"
   ]
  },
  {
   "cell_type": "code",
   "execution_count": 29,
   "metadata": {},
   "outputs": [],
   "source": [
    "parts = body_soup[0].find_all('input')\n",
    "# parts"
   ]
  },
  {
   "cell_type": "code",
   "execution_count": 9,
   "metadata": {},
   "outputs": [],
   "source": [
    "names_list = ['Wiper Blades', 'Front Bumper', 'Front Fender', 'Bonnet', 'Front Door', 'Bootlid', 'Front Windscreen Glass', 'Side Mirrors', 'Front Strut', 'Front Suspension Lower Arm','Suspension Overhaul']"
   ]
  },
  {
   "cell_type": "code",
   "execution_count": 116,
   "metadata": {},
   "outputs": [],
   "source": [
    "part_name = parts[1].attrs['value']"
   ]
  },
  {
   "cell_type": "code",
   "execution_count": 119,
   "metadata": {},
   "outputs": [
    {
     "output_type": "execute_result",
     "data": {
      "text/plain": [
       "'Front'"
      ]
     },
     "metadata": {},
     "execution_count": 119
    }
   ],
   "source": [
    "part_name.strip('\\\\\"')"
   ]
  },
  {
   "cell_type": "code",
   "execution_count": null,
   "metadata": {},
   "outputs": [],
   "source": []
  },
  {
   "cell_type": "code",
   "execution_count": 121,
   "metadata": {},
   "outputs": [
    {
     "output_type": "execute_result",
     "data": {
      "text/plain": [
       "('540', '660')"
      ]
     },
     "metadata": {},
     "execution_count": 121
    }
   ],
   "source": [
    "parts[0].attrs['data-price-min'].strip('\\\\\"'), parts[0].attrs['data-price-max'].strip('\\\\\"')"
   ]
  },
  {
   "cell_type": "code",
   "execution_count": 43,
   "metadata": {},
   "outputs": [
    {
     "output_type": "execute_result",
     "data": {
      "text/plain": [
       "<input body=\"\" data-price-max='\\\"3300\\\"' data-price-min='\\\"2700\\\"' data-service-head='\\\"Outer' overhaul=\"\" repair=\"\" service=\"\" type='\\\"checkbox\\\"' value='\\\"Suspension'/>"
      ]
     },
     "metadata": {},
     "execution_count": 43
    }
   ],
   "source": [
    "parts[10]"
   ]
  },
  {
   "cell_type": "code",
   "execution_count": null,
   "metadata": {},
   "outputs": [],
   "source": []
  }
 ]
}